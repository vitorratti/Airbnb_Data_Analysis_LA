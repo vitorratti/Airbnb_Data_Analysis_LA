{
  "cells": [
    {
      "cell_type": "markdown",
      "metadata": {
        "id": "view-in-github",
        "colab_type": "text"
      },
      "source": [
        "<a href=\"https://colab.research.google.com/github/vitorratti/Airbnb_Data_Analysis_LA/blob/main/Analise_Dados_Airbnb_LA.ipynb\" target=\"_parent\"><img src=\"https://colab.research.google.com/assets/colab-badge.svg\" alt=\"Open In Colab\"/></a>"
      ]
    },
    {
      "cell_type": "markdown",
      "metadata": {
        "id": "kLI0gJtzDGuQ"
      },
      "source": [
        "[![LinkedIn](https://img.shields.io/badge/LinkedIn-vitorratti-blue.svg)](https://www.linkedin.com/in/vitorratti)\n",
        "[![GitHub](https://img.shields.io/badge/GitHub-vitorratti-purple.svg)](https://github.com/vitorratti)\n",
        "\n",
        "\n",
        "# Análise dos Dados do Airbnb - *Los Angeles*\n",
        "\n",
        "O [Airbnb](https://www.airbnb.com.br/) já é considerado como sendo a **maior empresa hoteleira da atualidade**. O detalhe mais impressionante? Ele **não possui nenhum hotel**!\n",
        "\n",
        "A empresa, **constituída em 2007**, enxergou no mercado imobiliário tradicional um modelo de negócios inovador e lucrativo, revolucionando o conceito de hospedagem. Conectando viajantes a anfitriões de maneira prática e acessível, o Airbnb uniu o útil ao agradável e, hoje, conta com mais de **5 milhões de anfitriões** cadastrados e expressivos **2 bilhões de hóspedes** recebidos.\n",
        "\n",
        "Uma das iniciativas do Airbnb é disponibilizar dados do site, para algumas das principais cidades do mundo. Por meio do portal [Inside Airbnb](http://insideairbnb.com/get-the-data.html), é possível baixar uma grande quantidade de dados para desenvolver projetos e soluções de *Data Science*.\n",
        "\n",
        "<center><img alt=\"Analisando Airbnb\" width=\"10%\" src=\"https://www.area360.com.au/wp-content/uploads/2017/09/airbnb-logo.jpg\"></center>\n",
        "\n",
        "\n",
        "> **Neste *notebook*, iremos analisar os dados referentes à cidade de Los Angeles, e ver quais insights podem ser extraídos a partir de dados brutos.**\n",
        "\n"
      ]
    },
    {
      "cell_type": "markdown",
      "metadata": {
        "id": "iqaaecuFCu6S"
      },
      "source": [
        "# Um pouco sobre a \"Cidade dos Anjos\""
      ]
    },
    {
      "cell_type": "markdown",
      "metadata": {
        "id": "1n-x10yM8xnE"
      },
      "source": [
        "<center><img alt=\"Santa Monica beach, LA\" width=\"100%\" src=\"https://i.imgur.com/lXDaBOo.png\"></center>"
      ]
    },
    {
      "cell_type": "markdown",
      "metadata": {
        "id": "4SzUo2KyDDG-"
      },
      "source": [
        "Los Angeles, a famosa \"Cidade dos Anjos\", é um dos destinos mais icônicos dos Estados Unidos. Aparecendo em 2º lugar na lista das cidades mais populosas dos EUA, LA oferece experiências marcantes, com atrações procuradas por visitantes do mundo todo.\n",
        "\n",
        "Um roteiro comum de viagem para LA geralmente inclui a Calçada da Fama, o Letreiro de Hollywood, o Dolby Theater (sede das cerimônias do Oscar), a Rodeo Drive em Beverly Hills, o Universal Studios e até uma esticada em Venice Beach e no Pier de Santa Monica.\n",
        "\n",
        "Mas, afinal, o que os dados do Airbnb revelam sobre os padrões de hospedagem em Los Angeles?"
      ]
    },
    {
      "cell_type": "markdown",
      "metadata": {
        "id": "0zxQHhIUDF_2"
      },
      "source": [
        "## Obtenção dos Dados\n",
        "\n",
        "Todos os dados usados aqui foram obtidos a partir do site [Inside Airbnb](https://insideairbnb.com/get-the-data/).\n",
        "\n",
        "Para esta análise exploratória inicial, será baixado apenas o seguinte arquivo:\n",
        "\n",
        "* `listings.csv` - *Summary information and metrics for listings in Los Angeles (good for visualisations).*\n",
        "\n",
        "Importante: O portal está em constante evolução, e em determinado momento, pode ser que o [conjunto de dados](https://data.insideairbnb.com/united-states/ca/los-angeles/2024-09-04/visualisations/listings.csv) exato utilizado nesse notebook não esteja mais disponível, o que quebraria nosso código.\n",
        "\n",
        "Pensando nisso, disponibilizamos [aqui](https://tinyurl.com/airbnb-la) o conjunto que utilizamos, para que você sempre consiga utilizar esse material.\n",
        "\n",
        "Com isso em mente, vamos ao projeto."
      ]
    },
    {
      "cell_type": "code",
      "execution_count": null,
      "metadata": {
        "id": "Vhp2wMPgJ6zX"
      },
      "outputs": [],
      "source": [
        "# importar os pacotes necessarios\n",
        "import pandas as pd\n",
        "import matplotlib.pyplot as plt\n",
        "import plotly.express as px\n",
        "import seaborn as sns\n",
        "\n",
        "%matplotlib inline"
      ]
    },
    {
      "cell_type": "code",
      "execution_count": null,
      "metadata": {
        "id": "tUmoAT8DLQ5T"
      },
      "outputs": [],
      "source": [
        "# importar o arquivo listings.csv para um DataFrame\n",
        "df = pd.read_csv(\"https://tinyurl.com/airbnb-la\")"
      ]
    },
    {
      "cell_type": "markdown",
      "metadata": {
        "id": "qb5By2nIMS6m"
      },
      "source": [
        "## Análise dos Dados\n",
        "\n",
        "Esta etapa tem por objetivo criar uma consciência situacional inicial e permitir um entendimento de como os dados estão estruturados.\n",
        "Antes de iniciar qualquer análise, vamos verificar a cara do nosso *dataset*, analisando as 5 primeiras entradas."
      ]
    },
    {
      "cell_type": "code",
      "execution_count": null,
      "metadata": {
        "id": "giET19qnznwB"
      },
      "outputs": [],
      "source": [
        "# mostrar as 10 primeiras entradas\n",
        "display(df.head(10))"
      ]
    },
    {
      "cell_type": "markdown",
      "metadata": {
        "id": "RYgvuebKNg8-"
      },
      "source": [
        "**Dicionário das variáveis**\n",
        "\n",
        "Considerada uma boa prática, a elaboração de um dicionário de variáveis permite que todos compreendam os dados presentes no arquivo importado. Essa abordagem facilita o tratamento e a análise de dados que serão aplicados ao projeto.\n",
        "\n",
        "[Confira o dicionário de dados detalhado ↗](https://docs.google.com/spreadsheets/d/1iWCNJcSutYqpULSQHlNyGInUvHg2BoUGoNRIGa6Szc4/edit?usp=sharing)\n",
        "\n",
        "- *Seguindo a mesma ordem apresentada no Dataset:*\n",
        "\n",
        "\n",
        "| CAMPO    |  TIPO  |DESCRIÇÃO                                           |\n",
        "|----------|--------|----------------------------------------------------|\n",
        "| **`id`** | int64  | Identificador único do anúncio                     |\n",
        "| **`name`** | object| Nome do anúncio                                   |\n",
        "| **`host_id`**| int64| Identificador único do anfitrião                 |\n",
        "| **`host_name`**| object| Nome do anfitrião                             |\n",
        "| **`neighbourhood_group`**| object| Grupo de bairros, utilizado para classificar a localização|\n",
        "| **`neighbourhood`**| object| Bairro específico onde o anúncio está localizado|\n",
        "| **`latitude`**| float64| Latitude da localização do anúncio            |\n",
        "| **`longitude`**| float64| Longitude da localização do anúncio          |\n",
        "| **`room_type`**| object| Tipo de acomodação oferecida (e.g., quarto inteiro, quarto privado)|\n",
        "| **`price`**| float64| Preço por noite em moeda local                   |\n",
        "| **`minimum_nights`**| int64| Número mínimo de noites que o hóspede deve reservar|\n",
        "| **`number_of_reviews`**| int64| Número total de avaliações que o anúncio recebeu|\n",
        "| **`last_review`**| object| Data da última avaliação recebida           |\n",
        "| **`reviews_per_month`**| float64| Média de avaliações recebidas por mês|\n",
        "| **`calculated_host_listings_count`**| int64| Número total de anúncios ativos do anfitrião|\n",
        "| **`availability_365`**| int64| Número de dias em que a acomodação está disponível para reserva no ano|\n",
        "| **`number_of_reviews_ltm`**| int64| Número de avaliações recebidas nos últimos 12 meses|\n",
        "| **`license`**| object| Número da licença da acomodação, caso necessário|\n",
        "\n",
        "\n"
      ]
    },
    {
      "cell_type": "markdown",
      "metadata": {
        "id": "6-B_qtEaYEd-"
      },
      "source": [
        "### **Q1. Quantos atributos (variáveis) e quantas entradas o nosso conjunto de dados possui? Quais os tipos das variáveis?**\n",
        "\n",
        "Vamos prosseguir e identificar a quantidade de entradas que nosso conjunto de dados possui e ver os tipos de cada coluna.\n",
        "\n",
        "Este *dataset* que baixamos é a versão \"resumida\" do Airbnb. Na mesma página que baixamos o arquivo `listings.csv`. Há uma versão mais completa com 45533 entradas e 75 variáveis (`listings.csv.gz`)."
      ]
    },
    {
      "cell_type": "code",
      "execution_count": null,
      "metadata": {
        "id": "2iS_dae7YQtO"
      },
      "outputs": [],
      "source": [
        "# identificar o volume de dados e tipos das variáveis do DataFrame\n",
        "df.info()"
      ]
    },
    {
      "cell_type": "markdown",
      "metadata": {
        "id": "yz1urSUGW9iE"
      },
      "source": [
        "### **Q2. Qual a porcentagem de valores ausentes no *dataset*?**\n",
        "\n",
        "A qualidade de um dataset está diretamente relacionada à quantidade de valores ausentes. É importante entender logo no início se esses valores nulos são significativos comparados ao total de entradas."
      ]
    },
    {
      "cell_type": "code",
      "execution_count": null,
      "metadata": {
        "id": "CcbFqNnDYdf5"
      },
      "outputs": [],
      "source": [
        "# criar um DataFrame com a quantidade e percentual de entradas ausentes\n",
        "dados_ausentes= pd.DataFrame({\n",
        "    'qtde_nulos': df.isnull().sum(),\n",
        "    'perc_nulos': (df.isnull().sum() / df.shape[0])\n",
        "})\n",
        "\n",
        "# classificar o DataFrame pelo percentual de dados ausentes, em ordem decrescente\n",
        "dados_ausentes = dados_ausentes.sort_values(by='perc_nulos', ascending=False)\n",
        "\n",
        "# mostrar o DataFrame\n",
        "print(dados_ausentes)"
      ]
    },
    {
      "cell_type": "markdown",
      "metadata": {
        "id": "7jxUe_2CNRn3"
      },
      "source": [
        "- É possível ver que a coluna **`license`** apresenta 71% dos seus valores ausentes.\n",
        "- As variáveis **`last_review`** e **`reviews_per_month`** apresentam quase 27% de valores nulos.\n",
        "- É possível ver que a coluna **`price`** apresenta 18% dos seus valores ausentes\n",
        "- As variáveis **`host_name`** e **`name`** possuem menos que 0,1% dos valores nulos."
      ]
    },
    {
      "cell_type": "markdown",
      "metadata": {
        "id": "a_Iwbe31eEgB"
      },
      "source": [
        "#### **Q2.1. Tratando valores ausentes**\n",
        "\n",
        "Nesta etapa, antes de continuar nossa análise, faremos o tratamento das colunas que possuem valores ausentes.\n",
        "\n",
        "- **Exclusão das colunas** que possuem acima de 25% de valores ausentes (**`license`**, **`last_review`** e **`reviews_per_month`**), e que não serão utilizadas.\n",
        "\n",
        "- A coluna **`price`**, principal objeto de nossa análise, apresenta 8.237 (18%) de entradas ausentes. Por ser um volume considerável, dentre as inúmeras práticas possíveis, optamos pela **substituição dos valores nulos** pela **mediana do bairro** que esta entrada faz parte. Evitando a influência de outliers e respeitando a variável de localização.\n",
        "\n",
        "Por fim, faremos a **exclusão das entradas** com dados faltantes."
      ]
    },
    {
      "cell_type": "code",
      "execution_count": null,
      "metadata": {
        "id": "SMoYkjvDhC8e"
      },
      "outputs": [],
      "source": [
        "# excluir colunas com dados faltantes (não serão utilizadas) em um novo DataFrame\n",
        "df_non_null = df.copy()\n",
        "df_non_null = df_non_null.drop(columns=['license', 'last_review', 'reviews_per_month'])\n",
        "\n",
        "# substituir entradas com dados ausentes pela mediana do bairro, ou mediana do dataset\n",
        "df_non_null['price'] = df_non_null['price'].fillna(df_non_null.groupby('neighbourhood')['price'].transform('median'))\n",
        "df_non_null['price'] = df_non_null['price'].fillna(df_non_null['price'].median())\n",
        "\n",
        "# excluir entradas com dados faltantes\n",
        "df_non_null = df_non_null.dropna(axis=0)"
      ]
    },
    {
      "cell_type": "markdown",
      "metadata": {
        "id": "C4B5kkkntRg8"
      },
      "source": [
        "Feita a limpeza, é hora de conferir os resultados.\n",
        "\n"
      ]
    },
    {
      "cell_type": "code",
      "execution_count": null,
      "metadata": {
        "id": "K-T58_6_txet"
      },
      "outputs": [],
      "source": [
        "# Mostrar o tamanho do dataset antes e depois do tratamento\n",
        "print(f'Dataset original: {df.shape}')\n",
        "print(f'Dataset após tratamento: {df_non_null.shape}')\n",
        "\n",
        "# verificar o percentual de dados ausentes\n",
        "print((df_non_null.isnull().sum() / df_non_null.shape[0]).sort_values(ascending=False))"
      ]
    },
    {
      "cell_type": "markdown",
      "metadata": {
        "id": "UZRCXQH_NRn4"
      },
      "source": [
        "Pronto, não existem mais dados ausentes em nosso dataset. Agora vamos avaliar a presença de valores atípicos."
      ]
    },
    {
      "cell_type": "markdown",
      "metadata": {
        "id": "iHXvvHIxaoNc"
      },
      "source": [
        "### **Q3. Qual o tipo de distribuição das variáveis?**\n",
        "\n",
        "Para identificar a distribuição das variáveis, irei plotar o histograma. Esta é uma excelente forma de verificar possíveis outliers."
      ]
    },
    {
      "cell_type": "code",
      "execution_count": null,
      "metadata": {
        "id": "q2wWSfeRbmBo"
      },
      "outputs": [],
      "source": [
        "# plotar o histograma das variáveis numéricas\n",
        "df_non_null.hist(bins = 15, figsize=(15, 10))"
      ]
    },
    {
      "cell_type": "markdown",
      "metadata": {
        "id": "hs7teR6Hw_se"
      },
      "source": [
        "### **Q4. Há algum valor atípico?**\n",
        "\n",
        "Pela distribuição do histograma, é possível verificar indícios de presenças de outliers. Veja por exemplo as variáveis **`price`**, **`minimum_nights`** e **`number_of_reviews`**.\n",
        "\n",
        "Os valores não seguem uma distribuição, e distorcem toda a representação gráfica. Para confirmar, vamos utilizar o método **`describe`** para obter um resumo da distribuição estatística das variáveis que nos interessa.\n",
        "\n"
      ]
    },
    {
      "cell_type": "code",
      "execution_count": null,
      "metadata": {
        "id": "YSfM8UGzzrPi"
      },
      "outputs": [],
      "source": [
        "# verificar distribuição estatística das variáveis de interesse\n",
        "df_non_null[['price', 'minimum_nights', 'number_of_reviews', 'number_of_reviews_ltm',\n",
        "             'calculated_host_listings_count', 'availability_365']].describe()"
      ]
    },
    {
      "cell_type": "markdown",
      "metadata": {
        "id": "LgSYM_Cqz6wm"
      },
      "source": [
        "Aqui, algumas coisas chamam nossa atenção, por exemplo:\n",
        "- A variável **`price`**, que corresponde ao preço da diária dos imóveis em dólares (USD), possui 75% dos valores abaixo de 236 dólares, enquanto o valor máximo chega a 56.425 dólares, sugerindo claramente a presença de outliers.\n",
        "- A variável **`minimum_nights`** apresenta um valor máximo de 1.124 noites, com o terceiro quartil (Q3) em apenas 30 noites, o que confirma a existência de mais outliers.\n",
        "- As variáveis **`number_of_reviews`**, **`number_of_reviews_ltm`** e **`calculated_host_listings_count`** também podem conter outliers, mas não serão o foco desta análise."
      ]
    },
    {
      "cell_type": "markdown",
      "metadata": {
        "id": "sZcutbYu4QMK"
      },
      "source": [
        "#### **Q4.1. Tratando os Outliers**\n",
        "\n",
        "Bom, agora que confirmamos a presença de *outliers* em nosso Dataset, é essencial que façamos a limpeza deles.\n",
        "\n",
        "Para isso,vamos determinar uma \"faixa de corte\" para os valores contidos nas variáveis **`price`** e **`minimum_nights`**, determinando um limite inferior e superior.\n",
        "\n",
        "Esses limites serão atribuídos com base no método IQR SCORE. Primeiramente, vamos lembrar a regra do IQR.\n",
        "\n",
        "O IQR é calculado subtraindo o Terceiro Quartil (75%) pelo Primeiro Quartil (25%).\n",
        "\n",
        "# IQR = Q3 - Q1"
      ]
    },
    {
      "cell_type": "markdown",
      "metadata": {
        "id": "hAbHgLAH1Pkt"
      },
      "source": [
        "##### Variável `price`"
      ]
    },
    {
      "cell_type": "code",
      "execution_count": null,
      "metadata": {
        "id": "2ThqzEeF596C"
      },
      "outputs": [],
      "source": [
        "# identificar os outliers para a variável price\n",
        "q1_price = df_non_null.price.quantile(0.25)\n",
        "q3_price = df_non_null.price.quantile(0.75)\n",
        "IQR_price = q3_price - q1_price\n",
        "print('IQR da variável price: ', IQR_price)\n",
        "\n",
        "# definir os limites de acordo com o método escolhido\n",
        "sup_price = q3_price + 1.5 * IQR_price\n",
        "inf_price = q1_price - 1.0 * IQR_price\n",
        "print('Limite superior de price: ', sup_price)\n",
        "print('Limite inferior de price: ', inf_price)"
      ]
    },
    {
      "cell_type": "code",
      "execution_count": null,
      "metadata": {
        "id": "qR4NusT580nx"
      },
      "outputs": [],
      "source": [
        "# plotar boxplot do conjunto original para a variável price\n",
        "fig, ax = plt.subplots(figsize=(15,3))\n",
        "df_non_null.price.plot(kind='box', vert=False);\n",
        "ax.set_title('Dataset Original - Boxplot price')\n",
        "plt.show()\n",
        "print(\"O Dataset possui {} entradas\".format(df_non_null.shape[0]))\n",
        "print(\"{} delas estão acima de 437 dólares por noite.\".format(len(df_non_null[df_non_null.price > sup_price])))\n",
        "print(\"Representando {:.2f}% do dataset\".format((len(df_non_null[df_non_null.price > sup_price]) / df_non_null.shape[0]) * 100))"
      ]
    },
    {
      "cell_type": "markdown",
      "metadata": {
        "id": "tzQt4bo73UXb"
      },
      "source": [
        "##### Variável `minimum_nights`\n"
      ]
    },
    {
      "cell_type": "code",
      "execution_count": null,
      "metadata": {
        "id": "SqTAYd1w-liY"
      },
      "outputs": [],
      "source": [
        "# identificar os outliers para a variável minimum_nights\n",
        "q1_minimum_nights = df_non_null.minimum_nights.quantile(0.25)\n",
        "q3_minimum_nights = df_non_null.minimum_nights.quantile(0.75)\n",
        "IQR_minimum_nights = q3_minimum_nights - q1_minimum_nights\n",
        "print('IQR da variável minimum_nights: ', IQR_minimum_nights)\n",
        "\n",
        "# definir os limites de acordo com o método escolhido\n",
        "sup_minimum_nights = q3_minimum_nights + 1.5 * IQR_minimum_nights\n",
        "inf_minimum_nights = q1_minimum_nights - 1.5 * IQR_minimum_nights\n",
        "print('Limite superior de minimum_nights: ', sup_minimum_nights)\n",
        "print('Limite inferior de minimum_nights: ', inf_minimum_nights)"
      ]
    },
    {
      "cell_type": "code",
      "execution_count": null,
      "metadata": {
        "id": "0gaNNEep_r5C"
      },
      "outputs": [],
      "source": [
        "# plotar boxplot do conjunto original para a variável minimum_nights\n",
        "fig, ax = plt.subplots(figsize=(15,3))\n",
        "df_non_null.minimum_nights.plot(kind='box', vert=False);\n",
        "ax.set_title('Dataset Original - Boxplot minimum_nights')\n",
        "plt.show()\n",
        "print(\"O Dataset possui {} entradas\".format(df_non_null.shape[0]))\n",
        "print(\"{} delas estão acima de 72 noites\".format(len(df_non_null[df_non_null.minimum_nights > sup_minimum_nights])))\n",
        "print(\"Representando {:.2f}% do dataset\".format((len(df_non_null[df_non_null.minimum_nights > sup_minimum_nights]) / df_non_null.shape[0]) * 100))"
      ]
    },
    {
      "cell_type": "markdown",
      "metadata": {
        "id": "gOKefSOq4_Xv"
      },
      "source": [
        "##### Limpeza do Dataset\n",
        "Após definirmos os limites inferiores e superiores através do método IQR Score, vamos utilizar o limite superior das variáveis preço e mínimo de noites para limpar o dataset."
      ]
    },
    {
      "cell_type": "code",
      "execution_count": null,
      "metadata": {
        "id": "UDBXG1t9AnuL"
      },
      "outputs": [],
      "source": [
        "# limpar dataset conforme limite superior encontrado no IQR Score\n",
        "df_clean = df_non_null.copy()\n",
        "\n",
        "df_clean.drop(df_clean[df_clean.price > sup_price].index, axis=0, inplace=True)\n",
        "df_clean.drop(df_clean[df_clean.minimum_nights > sup_minimum_nights].index, axis=0, inplace=True)\n",
        "\n",
        "print('Dataset Original limpeza:', df_non_null.shape)\n",
        "print('Dataset Limpo:', df_clean.shape)\n",
        "print(f'Com a limpeza dos outliers, {df.shape[0] - df_clean.shape[0]} entradas foram deletadas')"
      ]
    },
    {
      "cell_type": "code",
      "execution_count": null,
      "metadata": {
        "id": "bPoL2pZXCWwr"
      },
      "outputs": [],
      "source": [
        "# plotar novamente boxplot do conjunto original para a variável price\n",
        "fig, ax = plt.subplots(figsize=(15,3))\n",
        "df_non_null.price.plot(kind='box', vert=False);\n",
        "ax.set_title('Dataset Original - Boxplot price')\n",
        "plt.show()\n",
        "print(\"O Dataset possui {} entradas\".format(df_non_null.shape[0]))\n",
        "print(\"{} delas estão acima de 437 dólares por noite\".format(len(df_non_null[df_non_null.price > sup_price])))\n",
        "print(\"Representando {:.2f}% do dataset\".format((len(df_non_null[df_non_null.price > sup_price]) / df_non_null.shape[0]) * 100))\n",
        "\n",
        "# plotar boxplot do conjunto limpo para a variável price\n",
        "fig, ax = plt.subplots(figsize=(15,3))\n",
        "df_clean.price.plot(kind='box', vert=False);\n",
        "ax.set_title('Dataset Limpo - Boxplot price')\n",
        "plt.show()\n",
        "print(f'Tamanho original: {df.shape[0]} entradas')\n",
        "print(f'Tamanho atual: {df_clean.shape[0]} entradas')"
      ]
    },
    {
      "cell_type": "code",
      "execution_count": null,
      "metadata": {
        "id": "mBxW2NAzCm7_"
      },
      "outputs": [],
      "source": [
        "# plotar novamente boxplot do conjunto original para a variável minimum_nights\n",
        "fig, ax = plt.subplots(figsize=(15,3))\n",
        "df_non_null.minimum_nights.plot(kind='box', vert=False);\n",
        "ax.set_title('Dataset Original - Boxplot minimum_nights')\n",
        "plt.show()\n",
        "print(\"O Dataset possui {} entradas\".format(df_non_null.shape[0]))\n",
        "print(\"{} delas estão acima de 72 noites\".format(len(df_non_null[df_non_null.minimum_nights > sup_minimum_nights])))\n",
        "print(\"Representando {:.2f}% do dataset\".format((len(df_non_null[df_non_null.minimum_nights > sup_minimum_nights]) / df_non_null.shape[0]) * 100))\n",
        "\n",
        "\n",
        "# plotar boxplot do conjunto limpo para a variável minimum_nights\n",
        "fig, ax = plt.subplots(figsize=(15,3))\n",
        "df_clean.minimum_nights.plot(kind='box', vert=False);\n",
        "ax.set_title('Dataset Limpo - Boxplot minimum_nights')\n",
        "plt.show()\n",
        "print(f'Tamanho original: {df.shape[0]} entradas')\n",
        "print(f'Tamanho atual: {df_clean.shape[0]} entradas')"
      ]
    },
    {
      "cell_type": "markdown",
      "metadata": {
        "id": "tYyZQaw2OB5t"
      },
      "source": [
        "##### Histogramas sem *outliers*\n",
        "\n",
        "Após a limpeza dos *outliers* nas variáveis `price` e `minimum_nights`, vamos plotar novamente o histograma para verificar a distribuição dos dados."
      ]
    },
    {
      "cell_type": "code",
      "execution_count": null,
      "metadata": {
        "id": "hz40ziYODvAN"
      },
      "outputs": [],
      "source": [
        "# verificar as distribuições das variáveis númericas\n",
        "df_clean.hist(bins = 15, figsize=(15, 10))"
      ]
    },
    {
      "cell_type": "code",
      "execution_count": null,
      "metadata": {
        "id": "AI2v4QsAGChN"
      },
      "outputs": [],
      "source": [
        "# verificar o resumo da distribuição estatística das variáveis do conjunto limpo\n",
        "df_clean[['price', 'minimum_nights', 'number_of_reviews', 'number_of_reviews_ltm',\n",
        "          'calculated_host_listings_count', 'availability_365']].describe()"
      ]
    },
    {
      "cell_type": "markdown",
      "metadata": {
        "id": "2Aq-f3B6Go8-"
      },
      "source": [
        "Concluído a limpeza, agora temos uma visão muito mais clara da distribuição dos dados.\n",
        "* A mediana da variável **`price`** foi minimamente afetada pela limpeza dos outliers, saindo de **154** dólares para **145**, mostrando a **robustez do IQR Score** como _solução_ para lidar com outliers."
      ]
    },
    {
      "cell_type": "markdown",
      "metadata": {
        "id": "IXn2oIo5qx-w"
      },
      "source": [
        "### **Q5. Qual a correlação existente entre as variáveis?**\n",
        "\n",
        "Correlação indica que há uma relação entre duas coisas. No nosso contexto, estamos buscando a conexão ou similaridade entre duas variáveis.\n",
        "\n",
        "Essa relação pode ser medida, e é função do coeficiente de correlação estabelecer qual a intensidade dela. Para identificar as correlações entre as variáveis de interesse, seguirei os seguintes passos:\n",
        "\n",
        "- Construir uma matriz de correlação\n",
        "- Visualizar essa matriz por meio de um heatmap, utilizando a biblioteca `seaborn`."
      ]
    },
    {
      "cell_type": "code",
      "execution_count": null,
      "metadata": {
        "id": "x2ayzBajqxyd"
      },
      "outputs": [],
      "source": [
        "# criar uma matriz de correlação\n",
        "corr = df_clean[['price', 'minimum_nights', 'latitude', 'longitude', 'number_of_reviews',\n",
        "                 'calculated_host_listings_count', 'availability_365']].corr() *100\n",
        "\n",
        "# mostrar a matriz de correlação\n",
        "display(corr)"
      ]
    },
    {
      "cell_type": "code",
      "execution_count": null,
      "metadata": {
        "id": "91UujDr6ueqE"
      },
      "outputs": [],
      "source": [
        "# plotar um heatmap a partir das correlações\n",
        "f, ax = plt.subplots(figsize=(9, 7))\n",
        "sns.set(font_scale=1.15)\n",
        "sns.heatmap(corr, cmap='RdBu', fmt='.2f', square=True, linecolor='white', annot=True)"
      ]
    },
    {
      "cell_type": "markdown",
      "metadata": {
        "id": "x5zfm8pdYvsC"
      },
      "source": [
        "##### **Conclusões**\n",
        "Com a plotagem do mapa de correlação, alguns insights podem ser extraídos:\n",
        "\n",
        "**Fatores que Influenciam os Preços**\n",
        "\n",
        "* **Localização geográfica**: A longitude apresenta correlação negativa moderada com o preço (**-21,86**), sugerindo variações de preço significativas relacionadas à posição geográfica. Isso reforça a **_importância do fator localização no mercado imobiliário_**, especialmente em uma cidade como Los Angeles, onde áreas específicas possuem alto valor agregado.\n",
        "\n",
        "* **Número de propriedades por host**: O número de listagens de um host apresentou uma correlação positiva fraca com o preço (**6,44**), indicando que **_hosts com mais propriedades tendem a cobrar preços um pouco mais altos_**. Isso pode refletir a **_experiência desses hosts em otimizar seus preços_** ou a **_qualidade superior_** de suas propriedades.\n",
        "\n",
        "A disponibilidade (`availability_365`) está moderadamente correlacionada com o número de listagens de um anfitrião (**7,64**). Isso pode ser explicado pelo fato de que hosts com mais propriedades listadas, tendem a oferecer maior disponibilidade para hospedagens.\n",
        "\n",
        "De maneira geral, observa-se que o **preço não possui correlações fortes** com a maioria das variáveis analisadas. Isso indica a necessidade de **explorar outras dimensões** do conjunto de dados ou integrar dados externos (como _proximidade de pontos turísticos ou comodidades_) para obter insights mais robustos sobre os fatores que determinam o preço."
      ]
    },
    {
      "cell_type": "markdown",
      "metadata": {
        "id": "8BMxJoVVhsxW"
      },
      "source": [
        "### **Q6. Qual é o preço médio do aluguel?**\n",
        "Quanto é preciso gastar, em média, para passar uma noite na cidade de Los Angeles?\n"
      ]
    },
    {
      "cell_type": "code",
      "execution_count": null,
      "metadata": {
        "id": "Kxpsi3V0iNhY"
      },
      "outputs": [],
      "source": [
        "# verificar preço médio das acomodações\n",
        "print(f'Preço médio (dólares): {df_clean.price.mean():.2f}')"
      ]
    },
    {
      "cell_type": "markdown",
      "metadata": {
        "id": "nzm_W7ULNRn9"
      },
      "source": [
        "Para se hospedar em LA, na média, os hóspedes gastam **159,56 dólares** por noite, ou **966,30 reais**, considerando a cotação do dólar americano em `16/01/2025`."
      ]
    },
    {
      "cell_type": "markdown",
      "metadata": {
        "id": "7b6RMWpuHKN-"
      },
      "source": [
        "### **Q7. Qual o tipo de imóvel mais alugado no Airbnb?**\n",
        "O tipo de acomodação é determinado pela variável `room_type`. As opções disponíveis para aluguel, incluem: apartamento/casa inteira, quarto privado, quarto de hotel ou quarto compartilhado."
      ]
    },
    {
      "cell_type": "code",
      "execution_count": null,
      "metadata": {
        "id": "ueLPNWvPHgfB"
      },
      "outputs": [],
      "source": [
        "# calcular preço médio de aluguel por tipo de acomodação\n",
        "media_preco_por_tipo = df_clean.groupby('room_type')['price'].mean()\n",
        "\n",
        "# verificar a quantidade e o preço médio de listagens por tipo de imóvel\n",
        "tipo_imovel = pd.DataFrame({\n",
        "    'percentual': df_clean.room_type.value_counts() / df_clean.shape[0] * 100,\n",
        "    'preco_medio': media_preco_por_tipo,\n",
        "})\n",
        "\n",
        "# classificar o DataFrame pelo percentual, em ordem decrescente\n",
        "tipo_imovel = tipo_imovel.sort_values(by='percentual', ascending=False)\n",
        "\n",
        "# exibir DataFrama\n",
        "print(tipo_imovel)"
      ]
    },
    {
      "cell_type": "markdown",
      "metadata": {
        "id": "QkicV9Y3NRn-"
      },
      "source": [
        "Mesmo apresentando custos mais altos, o tipo de imóvel mais alugado é a **_casa/apartamento inteiro_**, representando **71,47%** das listagens, seguido por **_quartos privados_** com **26,14%**. Isso indica uma _preferência dos hóspedes por privacidade e espaço_ durante suas estadias. Quartos compartilhados e quartos de hotel representam uma parcela mínima do mercado, com 1,79% e 0,60%, respectivamente."
      ]
    },
    {
      "cell_type": "markdown",
      "metadata": {
        "id": "MFa5NbnLJMcd"
      },
      "source": [
        "### **Q8. Qual a localidade mais cara de Los Angeles?**\n",
        "Para responder essa pergunta, podemos utilizar a função `groupby()`. Desse modo, agrupamos nossos dados por bairro e depois aplicamos a média na variável `price`, permitindo a análise dos preços de aluguel por bairro.\n"
      ]
    },
    {
      "cell_type": "code",
      "execution_count": null,
      "metadata": {
        "id": "MD_xa143JZpi"
      },
      "outputs": [],
      "source": [
        "# calcular preço médio dos aluguéis por bairro\n",
        "preco_medio = df_clean.groupby(['neighbourhood']).price.mean()\n",
        "\n",
        "# selecionar os 10 bairros com o preço médio mais alto\n",
        "mais_caros = preco_medio.sort_values(ascending=False)[:10]\n",
        "\n",
        "# criar gráfico com o top 10 bairros mais caros\n",
        "plt.figure(figsize=(5, 4))\n",
        "plt.barh(mais_caros.index[:10][::-1], mais_caros.values[:10][::-1], color ='skyblue')\n",
        "plt.title('Bairros mais caros de LA')\n",
        "plt.grid(False)\n",
        "plt.show()\n",
        "\n",
        "# mostrar valores\n",
        "print(mais_caros)"
      ]
    },
    {
      "cell_type": "markdown",
      "metadata": {
        "id": "m6c6HKJYCY0S"
      },
      "source": [
        "Curiosamente, **North Whittier** e **Malibu** lideram a lista dos bairros mais caros de Los Angeles.\n",
        "\n",
        "Por outro lado, bairros renomados como **Beverly Hills** e **Hollywood**, frequentemente associados ao luxo, nem aparecem na lista. Isso ocorre devido ao grande volume de imóveis disponíveis para locação nessas regiões, o que tende a reduzir a média dos preços, já que a presença de imóveis mais acessíveis dilui o impacto das propriedades de alto valor.\n",
        "\n",
        "Para compreender melhor essa dinâmica, vamos analisar os dados com mais profundidade."
      ]
    },
    {
      "cell_type": "code",
      "execution_count": null,
      "metadata": {
        "id": "UypoplC7X0LN"
      },
      "outputs": [],
      "source": [
        "# top 5 bairros mais caros\n",
        "top_5 = mais_caros[:5].index.tolist()\n",
        "\n",
        "# filtrar dataset com o top 5\n",
        "listagens = df_clean[df_clean['neighbourhood'].isin(top_5)]\n",
        "\n",
        "# quantidade de imóveis por bairro\n",
        "contagem = listagens['neighbourhood'].value_counts().reindex(top_5)"
      ]
    },
    {
      "cell_type": "markdown",
      "metadata": {
        "id": "Kt9WYaeWd-d9"
      },
      "source": [
        "Como podemos ver, esses bairros possuem uma quantidade limitada de anúncios, com **Avalon** liderando, apresentando **133 imóveis** listados, o que representa **menos de 11%** do volume de propriedades listadas em **Beverly Hills**, por exemplo. Essa pequena oferta, combinada com preços acima da média observada em outros bairros de Los Angeles, contribui para que essas regiões ocupem posições de destaque na lista dos mais caros.\n",
        "\n",
        "Em contrapartida, **Beverly Hills** e **Hollywood** contam com **mais de 1.000 imóveis** listados cada, reforçando a tese de que a maior oferta distribui os preços, resultando em uma média mais baixa."
      ]
    },
    {
      "cell_type": "markdown",
      "metadata": {
        "id": "ncvWz4KTt8sV"
      },
      "source": [
        "### **Q9. Qual a localidade mais barata de Los Angeles?**\n",
        "Para responder essa pergunta, vamos recorrer ao cálculo do preço médio já realizado anteriormente, aplicando uma ordenação crescente na coluna de preço e filtrando somente as 10 primeiras entradas."
      ]
    },
    {
      "cell_type": "code",
      "execution_count": null,
      "metadata": {
        "id": "Sx_AWOcBuVxm"
      },
      "outputs": [],
      "source": [
        "# selecionar os 10 bairros com o preço médio mais baixo\n",
        "mais_baratos = preco_medio.sort_values(ascending=True)[:10]\n",
        "\n",
        "# criar gráfico com o top 10 bairros mais baratos\n",
        "plt.figure(figsize=(5, 4))\n",
        "plt.barh(mais_baratos.index[:10][::-1], mais_baratos.values[:10][::-1], color ='lightblue')\n",
        "plt.title('Bairros mais baratos de LA')\n",
        "plt.grid(False)\n",
        "plt.show()\n",
        "\n",
        "# mostrar valores\n",
        "print(mais_baratos)"
      ]
    },
    {
      "cell_type": "markdown",
      "metadata": {
        "id": "MQCb_Nrz8pN7"
      },
      "source": [
        "**Watts** e **South Park** apresentam os preços mais acessíveis, com preços médios de **34,80** e **48,57 dólares**, respectivamente. Essas áreas oferecem opções mais econômicas, atraindo hóspedes com orçamentos mais restritos."
      ]
    },
    {
      "cell_type": "markdown",
      "metadata": {
        "id": "7BieduhZNRn_"
      },
      "source": [
        "### **Q10. Qual o bairro com maior oferta de imóveis para aluguel?**\n",
        "Similar a questão anterior, vamos agrupar nosso dados por bairro, e em seguida contar o número de imóveis disponíveis."
      ]
    },
    {
      "cell_type": "code",
      "execution_count": null,
      "metadata": {
        "id": "954nOipE9gR8"
      },
      "outputs": [],
      "source": [
        "# calcular quantidade de imóveis disponíveis por bairro\n",
        "qtd_imoveis = df_clean.groupby(['neighbourhood']).id.count()\n",
        "maior_disp = qtd_imoveis.sort_values(ascending=False)[:10]\n",
        "# criar gráfico com o top 10\n",
        "plt.figure(figsize=(5, 4))\n",
        "plt.barh(maior_disp.index[:10][::-1], maior_disp.values[:10][::-1], color ='lightgreen')\n",
        "plt.title('Bairros com maior disponibilidade')\n",
        "plt.grid(False)\n",
        "plt.show()\n",
        "\n",
        "# mostrar valores\n",
        "print(maior_disp)"
      ]
    },
    {
      "cell_type": "markdown",
      "metadata": {
        "id": "sxn77Q16NRn_"
      },
      "source": [
        "Esses bairros são **destinos populares** entre turistas e viajantes, graças à sua proximidade com atrações icônicas e à infraestrutura bem desenvolvida para receber visitantes.\n",
        "\n",
        "Por isso, essa lista pode ser uma **_excelente oportunidade para anfitriões_** que desejam listar seus imóveis no Airbnb. Bairros como **Hollywood**, **Santa Monica** e **Long Beach**, por exemplo, atraem uma grande base de turistas, mas também apresentam _alta concorrência_, o que requere _estratégias diferenciadas_ se quiser se destacar."
      ]
    },
    {
      "cell_type": "markdown",
      "metadata": {
        "id": "YwP7kVE-NRn_"
      },
      "source": [
        "### **Q11. Qual é o número médio mínimo de noites para alugar um Airbnb na cidade de Los Angeles?**\n",
        "Para visualizar rapidamente as principais informações sobre o mínimo de noites, utilizaremos o método **`describe( )`**."
      ]
    },
    {
      "cell_type": "code",
      "execution_count": null,
      "metadata": {
        "id": "R2SringVNRn_"
      },
      "outputs": [],
      "source": [
        "# mostrar estatistícas para o mínimo de noites\n",
        "print(df_clean.minimum_nights.describe())"
      ]
    },
    {
      "cell_type": "markdown",
      "metadata": {
        "id": "RECJx5atNRn_"
      },
      "source": [
        "A variável `minimum_nights`, que indica o número mínimo de noites que um hóspede deve reservar mostrou uma média de **16,2 noites**, com **75% das propriedades** exigindo até **30 noites**. Algumas propriedades, no entanto, impõem estadias mínimas de até **70 noites**, refletindo estratégias variadas:\n",
        "\n",
        "* **Estadias longas**: Reduzem a rotatividade e oferecem maior estabilidade de renda para os hosts.\n",
        "\n",
        "* **Estadias curtas**: Atraem um público mais diversificado, ampliando a ocupação e a flexibilidade para hóspedes que buscam estadias mais breves."
      ]
    },
    {
      "cell_type": "markdown",
      "metadata": {
        "id": "PW_f0KaTNRn_"
      },
      "source": [
        "### Explorando o Mapa\n",
        "A seguir, apresentamos um mapa interativo dos imóveis listados em Los Angeles, onde cada ponto é colorido em um gradiente que reflete o preço de aluguel. Essa visualização permite identificar padrões geográficos e áreas com valores mais altos ou mais acessíveis, oferecendo uma perspectiva clara da dinâmica do mercado de hospedagem na cidade."
      ]
    },
    {
      "cell_type": "code",
      "execution_count": null,
      "metadata": {
        "id": "UxVJqJ_3W59I"
      },
      "outputs": [],
      "source": [
        "# criar mapa de acordo com a latitude-longitude dos imóveis\n",
        "fig = px.scatter_mapbox(df_clean, lat=\"latitude\", lon=\"longitude\", color=\"price\", zoom=10, hover_name=\"name\" , hover_data=[\"neighbourhood\"])\n",
        "\n",
        "# definir cores conforme aumento do preço do aluguel\n",
        "fig.update_coloraxes (colorscale = [[0, 'rgb(166,206,227, 0.5)'],\n",
        "                        [0.15, 'rgb(31,120,180,0.5)'],\n",
        "                        [0.30, 'rgb(178,223,138,0.5)'],\n",
        "                        [0.45, 'rgb(51,160,44,0.5)'],\n",
        "                        [0.70, 'rgb(251,154,153,0.5)'],\n",
        "                        [1, 'rgb(227,26,28,0.5)']\n",
        "                      ],\n",
        "                   )\n",
        "\n",
        "# configurar altura, margem e estilo do mapa\n",
        "fig.update_layout(height=700, margin={\"r\":0,\"t\":0,\"l\":0,\"b\":0}, mapbox_style=\"open-street-map\", mapbox_center={\"lat\": 34.0522, \"lon\": -118.2437})\n",
        "\n",
        "# mostrar mapa\n",
        "fig.show()"
      ]
    },
    {
      "cell_type": "markdown",
      "metadata": {
        "id": "GkvAg623RjoR"
      },
      "source": [
        "## Conclusões da Análise de Dados\n",
        "\n",
        "Esta foi uma análise exploratória realizada em um conjunto de dados resumido disponibilizado pelo Airbnb para a cidade de Los Angeles. A partir dos dados, foi possível extrair insights valiosos sobre o mercado de hospedagem na região. Abaixo, destacamos as principais conclusões:\n",
        "\n",
        "**Distribuição e Limpeza dos Dados**\n",
        "\n",
        "Os preços das diárias apresentaram grande variação, incluindo outliers que foram tratados utilizando o método IQR Score. Após a limpeza dos dados, foi calculado que o preço médio de uma diária é de **159,56**, com a maiorida das propriedades custando entre **98** e **201 dólares**.\n",
        "\n",
        "**Preferências por Tipo de Imóvel**\n",
        "\n",
        "Mesmo com o custo mais alto, o tipo de imóvel mais alugado é a **casa/apartamento inteiro**, representando **71.47%** das listagens, seguido por **quartos privados** com **26.14%**. Isso indica uma preferência dos hóspedes por privacidade e espaço durante suas estadias. Quartos compartilhados e quartos de hotel representam uma parcela mínima do mercado, com **1,79%** e **0,60%**, respectivamente.\n",
        "\n",
        "**Bairros mais caros e mais baratos**\n",
        "\n",
        "* **Mais caros**: **North Whittier** e **Malibu** lideram com preços médios de **318,25** e **306,50** dólares, respectivamente. Esses bairros possuem uma oferta limitada de imóveis, o que contribui para preços mais elevados.\n",
        "\n",
        "* **Mais baratos**: **Watts** e **South Park** apresentam os preços mais acessíveis, com preços médios de **34.80** e **48.57** dólares, respectivamente. Essas áreas oferecem opções mais econômicas, atraindo hóspedes com orçamentos mais restritos.\n",
        "\n",
        "Curiosamente, bairros tradicionalmente associados ao luxo, como Beverly Hills e Hollywood, não aparecem no topo da lista dos mais caros. Esse fenômeno pode ser explicado pelo grande volume de imóveis disponíveis para aluguel nessas áreas, o que tende a diluir a média dos preços. De fato, ambos os bairros estão entre os **top 5 com maior disponibilidade de propriedades**, com mais de **1.000 listagens cada**.\n",
        "\n",
        "**Fatores que Influenciam os Preços**\n",
        "\n",
        "* **Localização Geográfica**:  A análise de correlação mostrou que a **longitude** tem uma correlação negativa moderada com o preço (**-21.86**), sugerindo que a localização geográfica é um fator importante na determinação dos preços.\n",
        "\n",
        "* **Número de propriedades por host**: O número de listagens de um host apresentou uma correlação positiva fraca com o preço (**6.44**), indicando que hosts com mais propriedades tendem a cobrar preços um pouco mais altos. Isso pode refletir a experiência desses hosts em otimizar seus preços ou a qualidade superior de suas propriedades.\n",
        "\n",
        "**Políticas de Estadia Mínima**\n",
        "\n",
        "A variável `minimum_nights`, que indica o número mínimo de noites que um hóspede deve reservar mostrou uma média de **16,2 noites**, com 75% das propriedades exigindo até **30 noites**. Algumas propriedades, no entanto, impõem estadias mínimas de até **70 noites**, refletindo estratégias variadas:\n",
        "\n",
        "* **Estadias longas**: Reduzem a rotatividade e oferecem maior estabilidade de renda para os hosts.\n",
        "* **Estadias curtas**: Atraem um público mais diversificado, ampliando a ocupação e a flexibilidade para hóspedes que buscam estadias mais breves."
      ]
    },
    {
      "cell_type": "markdown",
      "metadata": {
        "id": "mfBTKn74NRoA"
      },
      "source": [
        "### Agradecimento e Feedback\n",
        "Se você chegou até aqui, muito obrigado por acompanhar este projeto. Caso tenha encontrado outros insights nesse conjunto de dados ou tem algum tipo de feedback, fique a vontade para entrar em contato.\n",
        "\n",
        "Até breve! 🙋‍♂️\n",
        "\n",
        "\n",
        "[<center><img alt=\"LinkedIn\" width=\"20%\" src=\"https://www.freepnglogos.com/uploads/linkedin-png-logo-23.png\n",
        "\"></center>](https://www.linkedin.com/in/vitorratti/)\n",
        "\n",
        "[<center><img alt=\"GitHub\" width=\"22%\" src=\"https://pngimg.com/uploads/github/github_PNG23.png\n",
        "\"></center>](https://github.com/vitorrattti)"
      ]
    },
    {
      "cell_type": "code",
      "source": [],
      "metadata": {
        "id": "tPsgRVKfPhhf"
      },
      "execution_count": null,
      "outputs": []
    }
  ],
  "metadata": {
    "colab": {
      "provenance": [],
      "include_colab_link": true
    },
    "kernelspec": {
      "display_name": "Python 3 (ipykernel)",
      "language": "python",
      "name": "python3"
    },
    "language_info": {
      "codemirror_mode": {
        "name": "ipython",
        "version": 3
      },
      "file_extension": ".py",
      "mimetype": "text/x-python",
      "name": "python",
      "nbconvert_exporter": "python",
      "pygments_lexer": "ipython3",
      "version": "3.11.9"
    }
  },
  "nbformat": 4,
  "nbformat_minor": 0
}